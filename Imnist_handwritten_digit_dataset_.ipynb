{
  "nbformat": 4,
  "nbformat_minor": 0,
  "metadata": {
    "colab": {
      "name": "Imnist handwritten digit dataset .ipynb",
      "provenance": [],
      "authorship_tag": "ABX9TyOkSRSFdvnZImst4pe5T5ss",
      "include_colab_link": true
    },
    "kernelspec": {
      "name": "python3",
      "display_name": "Python 3"
    },
    "accelerator": "GPU"
  },
  "cells": [
    {
      "cell_type": "markdown",
      "metadata": {
        "id": "view-in-github",
        "colab_type": "text"
      },
      "source": [
        "<a href=\"https://colab.research.google.com/github/Abdelrahman26/Handwritten-Digits-Classification/blob/main/Imnist_handwritten_digit_dataset_.ipynb\" target=\"_parent\"><img src=\"https://colab.research.google.com/assets/colab-badge.svg\" alt=\"Open In Colab\"/></a>"
      ]
    },
    {
      "cell_type": "code",
      "metadata": {
        "id": "j7CH-nT3u4im"
      },
      "source": [
        "import numpy as np\n",
        "import matplotlib.pyplot as plt\n",
        "import torch\n",
        "from torchvision import datasets, transforms\n",
        "from torch.nn import Flatten, Linear, ReLU, Conv2d, MaxPool2d"
      ],
      "execution_count": null,
      "outputs": []
    },
    {
      "cell_type": "code",
      "metadata": {
        "id": "ji54IPK3wGhc"
      },
      "source": [
        "# download train data set and save it in file\n",
        "trainset = datasets.MNIST('mnist_dataset', train=True, download=True);"
      ],
      "execution_count": null,
      "outputs": []
    },
    {
      "cell_type": "code",
      "metadata": {
        "id": "gTjMm0J9wYvr"
      },
      "source": [
        "x, y = trainset[0]"
      ],
      "execution_count": null,
      "outputs": []
    },
    {
      "cell_type": "code",
      "metadata": {
        "colab": {
          "base_uri": "https://localhost:8080/"
        },
        "id": "H8XTcBVzxdNx",
        "outputId": "f47dfe1a-d03f-4ba0-e045-ebf215fc7148"
      },
      "source": [
        "type(x)"
      ],
      "execution_count": null,
      "outputs": [
        {
          "output_type": "execute_result",
          "data": {
            "text/plain": [
              "PIL.Image.Image"
            ]
          },
          "metadata": {
            "tags": []
          },
          "execution_count": 39
        }
      ]
    },
    {
      "cell_type": "code",
      "metadata": {
        "colab": {
          "base_uri": "https://localhost:8080/"
        },
        "id": "yVmNWikhw-LL",
        "outputId": "996918af-10fe-47d3-c6c1-356bde6c8384"
      },
      "source": [
        "print(y)"
      ],
      "execution_count": null,
      "outputs": [
        {
          "output_type": "stream",
          "text": [
            "5\n"
          ],
          "name": "stdout"
        }
      ]
    },
    {
      "cell_type": "code",
      "metadata": {
        "colab": {
          "base_uri": "https://localhost:8080/",
          "height": 299
        },
        "id": "cOPWQX6p1aDJ",
        "outputId": "552dc8df-2e33-4c24-ce99-21c18a47cd4e"
      },
      "source": [
        "# PIL don't support indexing\n",
        "# convert from PIL to numpy \n",
        "x = np.array(x)\n",
        "x = torch.tensor(x)\n",
        "print(x.shape)\n",
        "plt.imshow(x, cmap= 'gray')"
      ],
      "execution_count": null,
      "outputs": [
        {
          "output_type": "stream",
          "text": [
            "torch.Size([28, 28])\n"
          ],
          "name": "stdout"
        },
        {
          "output_type": "execute_result",
          "data": {
            "text/plain": [
              "<matplotlib.image.AxesImage at 0x7f65585ff3c8>"
            ]
          },
          "metadata": {
            "tags": []
          },
          "execution_count": 42
        },
        {
          "output_type": "display_data",
          "data": {
            "image/png": "[encoded data removed]",
            "text/plain": [
              "<Figure size 432x288 with 1 Axes>"
            ]
          },
          "metadata": {
            "tags": [],
            "needs_background": "light"
          }
        }
      ]
    },
    {
      "cell_type": "code",
      "metadata": {
        "id": "kSnr7q0XyI2q"
      },
      "source": [
        "# transforms.ToTensor converts the data into torch tensor and divides by 255\n",
        "trainset.transform = transforms.ToTensor()"
      ],
      "execution_count": null,
      "outputs": []
    },
    {
      "cell_type": "code",
      "metadata": {
        "id": "6LI1ihudygb_"
      },
      "source": [
        "x, y = trainset[0]"
      ],
      "execution_count": null,
      "outputs": []
    },
    {
      "cell_type": "code",
      "metadata": {
        "colab": {
          "base_uri": "https://localhost:8080/"
        },
        "id": "k3ad40eQyoyK",
        "outputId": "e7978e5a-a9ba-410c-d38b-c6a548014d0d"
      },
      "source": [
        "print(type(x))\n",
        "print(x.min(), x.max())"
      ],
      "execution_count": null,
      "outputs": [
        {
          "output_type": "stream",
          "text": [
            "<class 'torch.Tensor'>\n",
            "tensor(0.) tensor(1.)\n"
          ],
          "name": "stdout"
        }
      ]
    },
    {
      "cell_type": "code",
      "metadata": {
        "id": "wrJj_6wozF8v"
      },
      "source": [
        "train_loader = torch.utils.data.DataLoader(trainset, batch_size= 64, shuffle= True)"
      ],
      "execution_count": null,
      "outputs": []
    },
    {
      "cell_type": "code",
      "metadata": {
        "colab": {
          "base_uri": "https://localhost:8080/"
        },
        "id": "o7NBl_lO0hTd",
        "outputId": "56f372d4-d7a4-4117-a462-ccc0b49780e9"
      },
      "source": [
        "len(train_loader)"
      ],
      "execution_count": null,
      "outputs": [
        {
          "output_type": "execute_result",
          "data": {
            "text/plain": [
              "938"
            ]
          },
          "metadata": {
            "tags": []
          },
          "execution_count": 32
        }
      ]
    },
    {
      "cell_type": "code",
      "metadata": {
        "colab": {
          "base_uri": "https://localhost:8080/",
          "height": 299
        },
        "id": "JSMwNEzp0wlY",
        "outputId": "e1b0e164-b438-4d83-a64f-f9f037e87d3b"
      },
      "source": [
        "for X, y in train_loader:\n",
        "  print(len(X))\n",
        "  print(X.shape) # [# of images in Mini-Batch, # channels, H, W] -> NCHW\n",
        "  plt.imshow(X[24][0], cmap='gray')\n",
        "  break;"
      ],
      "execution_count": null,
      "outputs": [
        {
          "output_type": "stream",
          "text": [
            "64\n",
            "torch.Size([64, 1, 28, 28])\n"
          ],
          "name": "stdout"
        },
        {
          "output_type": "display_data",
          "data": {
            "image/png": "[encoded data removed]",
            "text/plain": [
              "<Figure size 432x288 with 1 Axes>"
            ]
          },
          "metadata": {
            "tags": [],
            "needs_background": "light"
          }
        }
      ]
    },
    {
      "cell_type": "code",
      "metadata": {
        "id": "DQmk0YM42z2E"
      },
      "source": [
        "# Build the model\n",
        "model = torch.nn.modules.Sequential(Conv2d(in_channels=1, out_channels=10, kernel_size=3, padding=1, stride=1),\n",
        "                                    ReLU(),\n",
        "                                    MaxPool2d(2, 2),   # Filter size 2, stride 2\n",
        "                                    Conv2d(in_channels=10, out_channels=10, kernel_size=3, padding=1, stride=1),\n",
        "                                    ReLU(),\n",
        "                                    Flatten(),\n",
        "                                    Linear(10*14*14, 10)\n",
        "                                    )"
      ],
      "execution_count": null,
      "outputs": []
    },
    {
      "cell_type": "code",
      "metadata": {
        "id": "hotHsx-k3qA0"
      },
      "source": [
        "# move model to GPU\n",
        "model = model.cuda()"
      ],
      "execution_count": null,
      "outputs": []
    },
    {
      "cell_type": "code",
      "metadata": {
        "id": "DNYIzxKl3wXT"
      },
      "source": [
        "# optimizer\n",
        "optimizer = torch.optim.Adam(model.parameters(), lr=1e-3)\n",
        "print_every = 100"
      ],
      "execution_count": null,
      "outputs": []
    },
    {
      "cell_type": "code",
      "metadata": {
        "colab": {
          "base_uri": "https://localhost:8080/"
        },
        "id": "GYM_ZgaW6-nl",
        "outputId": "d3085110-92e8-47e6-e007-31f9152b4c59"
      },
      "source": [
        "# Optimization loop\n",
        "for epoch in range(10):\n",
        "    print('Start of epoch', epoch)\n",
        "    total_loss = 0\n",
        "    total_examples = 0\n",
        "    total_correct = 0\n",
        "    \n",
        "    for iteration, (X, y) in enumerate(train_loader):\n",
        "        # Forward\n",
        "        X = X.cuda()    \n",
        "        y = y.cuda()\n",
        "        scores = model(X) # -> (N, 10)\n",
        "\n",
        "        # Loss\n",
        "        loss = torch.nn.functional.cross_entropy(scores, y)\n",
        "\n",
        "        # Accuracy\n",
        "        preds = torch.argmax(scores, dim=1)\n",
        "        num_correct = torch.sum(preds == y)\n",
        "        \n",
        "        # Print\n",
        "        total_loss += loss.item()\n",
        "        total_correct += num_correct.item()\n",
        "        total_examples += len(X)\n",
        "        if iteration % print_every == 0:\n",
        "            print(total_loss / total_examples, total_correct / total_examples)\n",
        "        \n",
        "        # Backward\n",
        "        loss.backward()\n",
        "        \n",
        "        # Update\n",
        "        with torch.no_grad():\n",
        "            optimizer.step()\n",
        "            optimizer.zero_grad()"
      ],
      "execution_count": null,
      "outputs": [
        {
          "output_type": "stream",
          "text": [
            "Start of epoch 0\n",
            "0.03594396635890007 0.125\n",
            "0.016590434938005293 0.6905940594059405\n",
            "0.01108193566874411 0.7923662935323383\n",
            "0.0089511860268766 0.8323297342192691\n",
            "0.007730535665547889 0.8558291770573566\n",
            "0.006932852407285345 0.8700099800399201\n",
            "0.006354045420679761 0.8812136023294509\n",
            "0.005836777236347835 0.8909593437945792\n",
            "0.0054007642093630796 0.898876404494382\n",
            "0.005039169348200853 0.9056603773584906\n",
            "Start of epoch 1\n",
            "0.002102237893268466 0.9375\n",
            "0.0017724149439156535 0.9675123762376238\n",
            "0.001787501989646041 0.9661069651741293\n",
            "0.0017473523096901602 0.966985049833887\n",
            "0.0016824438637212508 0.9683993142144638\n",
            "0.0016938965722194457 0.9687188123752495\n",
            "0.0016653217671304622 0.9694519550748752\n",
            "0.0016260177628422813 0.96955242510699\n",
            "0.0015923800130574423 0.9704275905118602\n",
            "0.001581973886032321 0.970553551609323\n",
            "Start of epoch 2\n",
            "0.0008808940765447915 0.984375\n",
            "0.0011646254411737185 0.9769492574257426\n",
            "0.0011914243337895782 0.9762904228855721\n",
            "0.001147504606796854 0.9775747508305648\n",
            "0.001160733846715591 0.9775561097256857\n",
            "0.0011428328902485499 0.9780439121756487\n",
            "0.0011110306749803737 0.978421381031614\n",
            "0.0011010077419132294 0.9784236804564908\n",
            "0.0011183965205931868 0.9781913233458177\n",
            "0.0011323873165407122 0.9779411764705882\n",
            "Start of epoch 3\n",
            "0.0006386736058630049 1.0\n",
            "0.0010185698805852922 0.9832920792079208\n",
            "0.0009455619456909078 0.9825093283582089\n",
            "0.0009296290750549162 0.982765780730897\n",
            "0.000967682155138468 0.9816084788029925\n",
            "0.0009683448996931289 0.9812874251497006\n",
            "0.0009587161714107379 0.9813331946755408\n",
            "0.0009422492571807412 0.9814773537803139\n",
            "0.0009306985333757885 0.981683052434457\n",
            "0.0009126493504291132 0.981947142064373\n",
            "Start of epoch 4\n",
            "0.0006799374823458493 0.984375\n",
            "0.0007925622143159104 0.9851485148514851\n",
            "0.0007639788217154512 0.9860074626865671\n",
            "0.0007987586487008435 0.9848941029900332\n",
            "0.0007799445924038785 0.9850374064837906\n",
            "0.000782261804579139 0.984936377245509\n",
            "0.0007744006401474821 0.9851809484193012\n",
            "0.0007811780099586129 0.9849991084165478\n",
            "0.0008004814017555774 0.9847846441947565\n",
            "0.0007921469810666668 0.9848258879023307\n",
            "Start of epoch 5\n",
            "8.79268191056326e-05 1.0\n",
            "0.0006625292682098132 0.9845297029702971\n",
            "0.0006435947101029645 0.9869402985074627\n",
            "0.0006712480210859647 0.986139950166113\n",
            "0.0006738928001558499 0.9863622194513716\n",
            "0.0006961198218442531 0.9860591317365269\n",
            "0.0006904732298564111 0.9859089018302829\n",
            "0.0006899008262728664 0.9859352710413695\n",
            "0.0006806033381301662 0.9861111111111112\n",
            "0.0006799063732501685 0.9860571587125416\n",
            "Start of epoch 6\n",
            "0.00027830831822939217 0.984375\n",
            "0.0004975582630169522 0.9885519801980198\n",
            "0.0005395155478969236 0.9881840796019901\n",
            "0.0006061529591509881 0.9870743355481728\n",
            "0.0006367778991751632 0.9865960099750624\n",
            "0.0006306515596644637 0.9867764471057884\n",
            "0.0006212073242049535 0.9871568219633944\n",
            "0.0006071834660709771 0.9874286733238231\n",
            "0.0006156554457841783 0.987203495630462\n",
            "0.0006106839355076604 0.9872017203107658\n",
            "Start of epoch 7\n",
            "0.00023088615853339434 1.0\n",
            "0.00047107796353434376 0.989944306930693\n",
            "0.0004923755764795162 0.9902052238805971\n",
            "0.0005302663335244135 0.9898255813953488\n",
            "0.0005207506977845093 0.9895963216957606\n",
            "0.0005196381200635269 0.9893026447105788\n",
            "0.0005162128190704985 0.9893146838602329\n",
            "0.0005293739699074712 0.9890112339514978\n",
            "0.0005219501221467687 0.9890956616729089\n",
            "0.0005399116036781527 0.9886931187569368\n",
            "Start of epoch 8\n",
            "0.0006865246105007827 0.96875\n",
            "0.0003899941787197592 0.9927289603960396\n",
            "0.0004440365895770901 0.9913712686567164\n",
            "0.0004549152237898873 0.9912790697674418\n",
            "0.00046111543878466643 0.9909211346633416\n",
            "0.00046215097278515667 0.9906749001996008\n",
            "0.00046144840116585254 0.9906665973377704\n",
            "0.0004728848092218763 0.990460057061341\n",
            "0.0004802494850332238 0.9903441011235955\n",
            "0.0004829619616787474 0.9901151498335183\n",
            "Start of epoch 9\n",
            "0.00026823210646398365 0.984375\n",
            "0.0003599985882306776 0.9925742574257426\n",
            "0.0003587889290863688 0.9924595771144279\n",
            "0.00037270357962518384 0.9921615448504983\n",
            "0.0003782536236532107 0.9922069825436409\n",
            "0.0004060614185912849 0.9918912175648703\n",
            "0.00040072444451307666 0.9918625207986689\n",
            "0.00041359613711657413 0.9915968259629101\n",
            "0.0004211363173728498 0.9914364856429463\n",
            "0.0004285945486664381 0.9914851553829079\n"
          ],
          "name": "stdout"
        }
      ]
    },
    {
      "cell_type": "code",
      "metadata": {
        "colab": {
          "base_uri": "https://localhost:8080/"
        },
        "id": "NpKycs6o74gX",
        "outputId": "145bb326-bf23-480b-99cc-fdde267a4910"
      },
      "source": [
        "# Measure test accuracy\n",
        "testset = datasets.MNIST('mnist_dataset', train=False, download=True, transform=transforms.ToTensor())\n",
        "test_loader = torch.utils.data.DataLoader(testset, batch_size=64, shuffle=True)\n",
        "\n",
        "print('testset has', len(testset), 'images')\n",
        "\n",
        "correct = 0\n",
        "\n",
        "with torch.no_grad():\n",
        "    for X, y in test_loader:\n",
        "        X = X.cuda()\n",
        "        y = y.cuda()\n",
        "\n",
        "        scores = model(X)\n",
        "        preds = torch.argmax(scores, dim=1)\n",
        "        \n",
        "        correct += torch.sum(preds == y)\n",
        "\n",
        "    print('correct = ', correct.item() / len(testset))"
      ],
      "execution_count": null,
      "outputs": [
        {
          "output_type": "stream",
          "text": [
            "testset has 10000 images\n",
            "correct =  0.9872\n"
          ],
          "name": "stdout"
        }
      ]
    },
    {
      "cell_type": "code",
      "metadata": {
        "id": "RE2qyrqs9hTY"
      },
      "source": [
        ""
      ],
      "execution_count": null,
      "outputs": []
    }
  ]
}